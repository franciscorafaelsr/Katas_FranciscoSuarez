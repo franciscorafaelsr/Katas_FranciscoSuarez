{
 "cells": [
  {
   "cell_type": "markdown",
   "metadata": {},
   "source": [
    "# kata 5"
   ]
  },
  {
   "cell_type": "markdown",
   "metadata": {},
   "source": [
    "## ejercicio 1"
   ]
  },
  {
   "cell_type": "code",
   "execution_count": 6,
   "metadata": {},
   "outputs": [
    {
     "name": "stdout",
     "output_type": "stream",
     "text": [
      "distancia en km :628949330\n",
      "distancia en millas :390577533.93\n"
     ]
    }
   ],
   "source": [
    "import math\n",
    "\n",
    "soltierra = 149597870\n",
    "soljupiter = 778547200\n",
    "\n",
    "\n",
    "distancia  = abs(149597870 - 778547200)\n",
    "print('distancia en km :' +str(distancia))\n",
    "print('distancia en millas :' +str(distancia*0.621))\n"
   ]
  },
  {
   "cell_type": "markdown",
   "metadata": {},
   "source": [
    "## ejercicio 2"
   ]
  },
  {
   "cell_type": "code",
   "execution_count": 10,
   "metadata": {},
   "outputs": [
    {
     "name": "stdout",
     "output_type": "stream",
     "text": [
      "distancia en km :4437200000\n",
      "distancia en millas :2755501200.0\n"
     ]
    }
   ],
   "source": [
    "planeta1 =int(input(\"distancia primer planeta\"))\n",
    "planeta2 =int(input(\"distancia segundo planeta\"))\n",
    "\n",
    "distancia  = abs(planeta1 - planeta2)\n",
    "print('distancia en km :' +str(distancia))\n",
    "print('distancia en millas :' +str(distancia*0.621))\n"
   ]
  }
 ],
 "metadata": {
  "interpreter": {
   "hash": "69eb92836b941e979072a76c7fcfffe5419cca933cedd02cfafbdfca1a93358c"
  },
  "kernelspec": {
   "display_name": "Python 3.9.10 64-bit",
   "language": "python",
   "name": "python3"
  },
  "language_info": {
   "codemirror_mode": {
    "name": "ipython",
    "version": 3
   },
   "file_extension": ".py",
   "mimetype": "text/x-python",
   "name": "python",
   "nbconvert_exporter": "python",
   "pygments_lexer": "ipython3",
   "version": "3.9.10"
  },
  "orig_nbformat": 4
 },
 "nbformat": 4,
 "nbformat_minor": 2
}
