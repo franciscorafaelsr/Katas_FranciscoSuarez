{
 "cells": [
  {
   "cell_type": "markdown",
   "metadata": {},
   "source": [
    "## Kata 7\n",
    "# ejercicio 1"
   ]
  },
  {
   "cell_type": "code",
   "execution_count": 6,
   "metadata": {},
   "outputs": [
    {
     "name": "stdout",
     "output_type": "stream",
     "text": [
      "['rafa', 'anaid']\n"
     ]
    }
   ],
   "source": [
    "user_input = ''\n",
    "planets = []\n",
    "\n",
    "while user_input.lower() != 'fin':\n",
    "    user_input = input('Ingrese el nuevo planeta')\n",
    "    if  user_input.lower() != 'fin':\n",
    "        planets.append(user_input)\n",
    "    \n",
    "\n",
    "\n",
    "print(planets)"
   ]
  },
  {
   "cell_type": "markdown",
   "metadata": {},
   "source": [
    "## ejercicio 2"
   ]
  },
  {
   "cell_type": "code",
   "execution_count": 7,
   "metadata": {},
   "outputs": [
    {
     "name": "stdout",
     "output_type": "stream",
     "text": [
      "los planetas ingresados\n",
      "venus\n",
      "mercurio\n",
      "marte\n",
      "tierra \n",
      "jupiter\n",
      "neptuno\n",
      "pluton\n"
     ]
    }
   ],
   "source": [
    "user_input = ''\n",
    "planets = []\n",
    "\n",
    "while user_input.lower() != 'fin':\n",
    "    user_input = input('Ingrese el nuevo planeta')\n",
    "    if  user_input.lower() != 'fin':\n",
    "        planets.append(user_input)\n",
    "    \n",
    "\n",
    "print('los planetas ingresados')\n",
    "\n",
    "for planet in planets:\n",
    "    print(planet)"
   ]
  }
 ],
 "metadata": {
  "interpreter": {
   "hash": "69eb92836b941e979072a76c7fcfffe5419cca933cedd02cfafbdfca1a93358c"
  },
  "kernelspec": {
   "display_name": "Python 3.9.10 64-bit",
   "language": "python",
   "name": "python3"
  },
  "language_info": {
   "codemirror_mode": {
    "name": "ipython",
    "version": 3
   },
   "file_extension": ".py",
   "mimetype": "text/x-python",
   "name": "python",
   "nbconvert_exporter": "python",
   "pygments_lexer": "ipython3",
   "version": "3.9.10"
  },
  "orig_nbformat": 4
 },
 "nbformat": 4,
 "nbformat_minor": 2
}
