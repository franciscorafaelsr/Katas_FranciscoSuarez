{
 "cells": [
  {
   "cell_type": "markdown",
   "metadata": {},
   "source": [
    "# ejercicios \n",
    "\n",
    "## problema 1"
   ]
  },
  {
   "cell_type": "code",
   "execution_count": 5,
   "metadata": {},
   "outputs": [
    {
     "name": "stdout",
     "output_type": "stream",
     "text": [
      "Asteroide !\n"
     ]
    }
   ],
   "source": [
    "velast = 49\n",
    "\n",
    "if velast > 25:\n",
    "  print(\"Asteroide !\")\n",
    "else :\n",
    " print(\"Todo bien !\")"
   ]
  },
  {
   "cell_type": "markdown",
   "metadata": {},
   "source": [
    "## problema 2"
   ]
  },
  {
   "cell_type": "code",
   "execution_count": 6,
   "metadata": {},
   "outputs": [
    {
     "name": "stdout",
     "output_type": "stream",
     "text": [
      "No mires arriba !\n"
     ]
    }
   ],
   "source": [
    "velast = 19\n",
    "\n",
    "if velast > 20:\n",
    "  print(\"Mira arriba !\")\n",
    "elif velast == 20:\n",
    "  print(\"Mira arriba !\")  \n",
    "else :\n",
    " print(\"No mires arriba !\")"
   ]
  },
  {
   "cell_type": "markdown",
   "metadata": {},
   "source": [
    "## problema 3"
   ]
  },
  {
   "cell_type": "code",
   "execution_count": 7,
   "metadata": {},
   "outputs": [
    {
     "name": "stdout",
     "output_type": "stream",
     "text": [
      "cuidado !\n"
     ]
    }
   ],
   "source": [
    "velast = 25\n",
    "tamast = 40\n",
    "\n",
    "if velast > 25 or tamast > 25:\n",
    "  print(\"cuidado !\")\n",
    "elif velast >= 20:\n",
    "  print(\"Mira arriba luz!\")  \n",
    "elif tamast < 25 :\n",
    " print(\"Nada \")\n",
    "else :\n",
    " print(\"Nada\")"
   ]
  }
 ],
 "metadata": {
  "interpreter": {
   "hash": "69eb92836b941e979072a76c7fcfffe5419cca933cedd02cfafbdfca1a93358c"
  },
  "kernelspec": {
   "display_name": "Python 3.9.10 64-bit",
   "language": "python",
   "name": "python3"
  },
  "language_info": {
   "codemirror_mode": {
    "name": "ipython",
    "version": 3
   },
   "file_extension": ".py",
   "mimetype": "text/x-python",
   "name": "python",
   "nbconvert_exporter": "python",
   "pygments_lexer": "ipython3",
   "version": "3.9.10"
  },
  "orig_nbformat": 4
 },
 "nbformat": 4,
 "nbformat_minor": 2
}
